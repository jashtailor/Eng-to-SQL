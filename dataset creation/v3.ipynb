{
 "cells": [
  {
   "cell_type": "code",
   "execution_count": 19,
   "metadata": {},
   "outputs": [],
   "source": [
    "import pandas as pd\n",
    "import numpy as np"
   ]
  },
  {
   "cell_type": "code",
   "execution_count": 20,
   "metadata": {},
   "outputs": [],
   "source": [
    "a = pd.read_csv('train.csv')\n",
    "b = pd.read_csv('test.csv')\n",
    "c = pd.read_csv('validation.csv')"
   ]
  },
  {
   "cell_type": "code",
   "execution_count": 21,
   "metadata": {},
   "outputs": [],
   "source": [
    "d = pd.concat([a, b, c])"
   ]
  },
  {
   "cell_type": "code",
   "execution_count": 22,
   "metadata": {},
   "outputs": [
    {
     "data": {
      "text/html": [
       "<div>\n",
       "<style scoped>\n",
       "    .dataframe tbody tr th:only-of-type {\n",
       "        vertical-align: middle;\n",
       "    }\n",
       "\n",
       "    .dataframe tbody tr th {\n",
       "        vertical-align: top;\n",
       "    }\n",
       "\n",
       "    .dataframe thead th {\n",
       "        text-align: right;\n",
       "    }\n",
       "</style>\n",
       "<table border=\"1\" class=\"dataframe\">\n",
       "  <thead>\n",
       "    <tr style=\"text-align: right;\">\n",
       "      <th></th>\n",
       "      <th>question</th>\n",
       "      <th>sql</th>\n",
       "    </tr>\n",
       "  </thead>\n",
       "  <tbody>\n",
       "    <tr>\n",
       "      <th>0</th>\n",
       "      <td>Tell me what the notes are for South Australia</td>\n",
       "      <td>SELECT Notes FROM table WHERE Current slogan =...</td>\n",
       "    </tr>\n",
       "    <tr>\n",
       "      <th>1</th>\n",
       "      <td>What is the current series where the new serie...</td>\n",
       "      <td>SELECT Current series FROM table WHERE Notes =...</td>\n",
       "    </tr>\n",
       "    <tr>\n",
       "      <th>2</th>\n",
       "      <td>What is the format for South Australia?</td>\n",
       "      <td>SELECT Format FROM table WHERE State/territory...</td>\n",
       "    </tr>\n",
       "    <tr>\n",
       "      <th>3</th>\n",
       "      <td>Name the background colour for the Australian ...</td>\n",
       "      <td>SELECT Text/background colour FROM table WHERE...</td>\n",
       "    </tr>\n",
       "    <tr>\n",
       "      <th>4</th>\n",
       "      <td>how many times is the fuel propulsion is cng?</td>\n",
       "      <td>SELECT COUNT Fleet Series (Quantity) FROM tabl...</td>\n",
       "    </tr>\n",
       "  </tbody>\n",
       "</table>\n",
       "</div>"
      ],
      "text/plain": [
       "                                            question  \\\n",
       "0    Tell me what the notes are for South Australia    \n",
       "1  What is the current series where the new serie...   \n",
       "2            What is the format for South Australia?   \n",
       "3  Name the background colour for the Australian ...   \n",
       "4      how many times is the fuel propulsion is cng?   \n",
       "\n",
       "                                                 sql  \n",
       "0  SELECT Notes FROM table WHERE Current slogan =...  \n",
       "1  SELECT Current series FROM table WHERE Notes =...  \n",
       "2  SELECT Format FROM table WHERE State/territory...  \n",
       "3  SELECT Text/background colour FROM table WHERE...  \n",
       "4  SELECT COUNT Fleet Series (Quantity) FROM tabl...  "
      ]
     },
     "execution_count": 22,
     "metadata": {},
     "output_type": "execute_result"
    }
   ],
   "source": [
    "d.head()"
   ]
  },
  {
   "cell_type": "code",
   "execution_count": 23,
   "metadata": {},
   "outputs": [],
   "source": [
    "d.to_csv('wikisql.csv')"
   ]
  },
  {
   "cell_type": "code",
   "execution_count": 24,
   "metadata": {},
   "outputs": [],
   "source": [
    "c1 = d['question']\n",
    "c2 = d['sql']\n",
    "join = []\n",
    "groupby = []\n",
    "orderby = []\n",
    "where = []\n",
    "max = []\n",
    "min = []\n",
    "count = []\n",
    "\n",
    "for (e,f) in zip(c1,c2):\n",
    "    if 'JOIN' in f:\n",
    "        join.append([e,f])\n",
    "    elif 'GROUP BY' in f:\n",
    "        groupby.append([e,f])\n",
    "    elif 'ORDER BY' in f:\n",
    "        orderby.append([e,f])\n",
    "    elif 'MAX' in f:\n",
    "        max.append([e,f])\n",
    "    elif 'MIN' in f:\n",
    "        min.append([e,f])\n",
    "    elif 'COUNT' in f:\n",
    "        count.append([e,f])\n",
    "    "
   ]
  },
  {
   "cell_type": "code",
   "execution_count": 25,
   "metadata": {},
   "outputs": [
    {
     "data": {
      "text/plain": [
       "0"
      ]
     },
     "execution_count": 25,
     "metadata": {},
     "output_type": "execute_result"
    }
   ],
   "source": [
    "len(join)"
   ]
  },
  {
   "cell_type": "code",
   "execution_count": 26,
   "metadata": {},
   "outputs": [
    {
     "data": {
      "text/plain": [
       "0"
      ]
     },
     "execution_count": 26,
     "metadata": {},
     "output_type": "execute_result"
    }
   ],
   "source": [
    "len(groupby)"
   ]
  },
  {
   "cell_type": "code",
   "execution_count": 27,
   "metadata": {},
   "outputs": [
    {
     "data": {
      "text/plain": [
       "0"
      ]
     },
     "execution_count": 27,
     "metadata": {},
     "output_type": "execute_result"
    }
   ],
   "source": [
    "len(orderby)"
   ]
  },
  {
   "cell_type": "code",
   "execution_count": 28,
   "metadata": {},
   "outputs": [
    {
     "data": {
      "text/plain": [
       "4644"
      ]
     },
     "execution_count": 28,
     "metadata": {},
     "output_type": "execute_result"
    }
   ],
   "source": [
    "len(max)"
   ]
  },
  {
   "cell_type": "code",
   "execution_count": 29,
   "metadata": {},
   "outputs": [
    {
     "data": {
      "text/plain": [
       "4633"
      ]
     },
     "execution_count": 29,
     "metadata": {},
     "output_type": "execute_result"
    }
   ],
   "source": [
    "len(min)"
   ]
  },
  {
   "cell_type": "code",
   "execution_count": 30,
   "metadata": {},
   "outputs": [
    {
     "data": {
      "text/plain": [
       "7347"
      ]
     },
     "execution_count": 30,
     "metadata": {},
     "output_type": "execute_result"
    }
   ],
   "source": [
    "len(count)"
   ]
  },
  {
   "cell_type": "markdown",
   "metadata": {},
   "source": [
    "Due to Computational Constraints we will only be using 7500 records <br> \n",
    "2500 from each max, min and count respectively"
   ]
  },
  {
   "cell_type": "code",
   "execution_count": 31,
   "metadata": {},
   "outputs": [],
   "source": [
    "max = max[:2500]\n",
    "min = min[:2500]\n",
    "count = count[:2500]"
   ]
  },
  {
   "cell_type": "code",
   "execution_count": 32,
   "metadata": {},
   "outputs": [
    {
     "data": {
      "text/html": [
       "<div>\n",
       "<style scoped>\n",
       "    .dataframe tbody tr th:only-of-type {\n",
       "        vertical-align: middle;\n",
       "    }\n",
       "\n",
       "    .dataframe tbody tr th {\n",
       "        vertical-align: top;\n",
       "    }\n",
       "\n",
       "    .dataframe thead th {\n",
       "        text-align: right;\n",
       "    }\n",
       "</style>\n",
       "<table border=\"1\" class=\"dataframe\">\n",
       "  <thead>\n",
       "    <tr style=\"text-align: right;\">\n",
       "      <th></th>\n",
       "      <th>question</th>\n",
       "      <th>sql</th>\n",
       "    </tr>\n",
       "  </thead>\n",
       "  <tbody>\n",
       "    <tr>\n",
       "      <th>0</th>\n",
       "      <td>What time was the highest for 2nd finishers?</td>\n",
       "      <td>SELECT MAX 2nd FROM table</td>\n",
       "    </tr>\n",
       "    <tr>\n",
       "      <th>1</th>\n",
       "      <td>What number is the player that played 1998-2001</td>\n",
       "      <td>SELECT MIN No. FROM table WHERE Years in Toron...</td>\n",
       "    </tr>\n",
       "    <tr>\n",
       "      <th>2</th>\n",
       "      <td>how many times is the fuel propulsion is cng?</td>\n",
       "      <td>SELECT COUNT Fleet Series (Quantity) FROM tabl...</td>\n",
       "    </tr>\n",
       "    <tr>\n",
       "      <th>3</th>\n",
       "      <td>What is the number of chapters listed for the ...</td>\n",
       "      <td>SELECT MAX Chapters FROM table WHERE Classific...</td>\n",
       "    </tr>\n",
       "    <tr>\n",
       "      <th>4</th>\n",
       "      <td>When did the Metrostars have their first Rooki...</td>\n",
       "      <td>SELECT MIN Season FROM table WHERE Team = Metr...</td>\n",
       "    </tr>\n",
       "  </tbody>\n",
       "</table>\n",
       "</div>"
      ],
      "text/plain": [
       "                                            question  \\\n",
       "0       What time was the highest for 2nd finishers?   \n",
       "1    What number is the player that played 1998-2001   \n",
       "2      how many times is the fuel propulsion is cng?   \n",
       "3  What is the number of chapters listed for the ...   \n",
       "4  When did the Metrostars have their first Rooki...   \n",
       "\n",
       "                                                 sql  \n",
       "0                          SELECT MAX 2nd FROM table  \n",
       "1  SELECT MIN No. FROM table WHERE Years in Toron...  \n",
       "2  SELECT COUNT Fleet Series (Quantity) FROM tabl...  \n",
       "3  SELECT MAX Chapters FROM table WHERE Classific...  \n",
       "4  SELECT MIN Season FROM table WHERE Team = Metr...  "
      ]
     },
     "execution_count": 32,
     "metadata": {},
     "output_type": "execute_result"
    }
   ],
   "source": [
    "question = []\n",
    "sql = []\n",
    "for (i,j,k) in zip(max, min, count):\n",
    "    question.append(i[0])\n",
    "    question.append(j[0])\n",
    "    question.append(k[0])\n",
    "    sql.append(i[1])\n",
    "    sql.append(j[1])\n",
    "    sql.append(k[1])\n",
    "\n",
    "df = pd.DataFrame()\n",
    "df['question'] = question\n",
    "df['sql'] = sql\n",
    "df.head()"
   ]
  },
  {
   "cell_type": "code",
   "execution_count": 33,
   "metadata": {},
   "outputs": [
    {
     "data": {
      "text/plain": [
       "(7500, 2)"
      ]
     },
     "execution_count": 33,
     "metadata": {},
     "output_type": "execute_result"
    }
   ],
   "source": [
    "df.shape"
   ]
  },
  {
   "cell_type": "code",
   "execution_count": 34,
   "metadata": {},
   "outputs": [],
   "source": [
    "df.to_csv('wikisql_v3.csv')"
   ]
  }
 ],
 "metadata": {
  "interpreter": {
   "hash": "63fd5069d213b44bf678585dea6b12cceca9941eaf7f819626cde1f2670de90d"
  },
  "kernelspec": {
   "display_name": "Python 3.9.0 64-bit",
   "language": "python",
   "name": "python3"
  },
  "language_info": {
   "codemirror_mode": {
    "name": "ipython",
    "version": 3
   },
   "file_extension": ".py",
   "mimetype": "text/x-python",
   "name": "python",
   "nbconvert_exporter": "python",
   "pygments_lexer": "ipython3",
   "version": "3.9.0"
  },
  "orig_nbformat": 4
 },
 "nbformat": 4,
 "nbformat_minor": 2
}
